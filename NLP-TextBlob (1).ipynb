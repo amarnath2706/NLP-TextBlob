{
 "cells": [
  {
   "cell_type": "code",
   "execution_count": 1,
   "metadata": {},
   "outputs": [
    {
     "name": "stdout",
     "output_type": "stream",
     "text": [
      "Collecting textblob\n",
      "  Downloading https://files.pythonhosted.org/packages/60/f0/1d9bfcc8ee6b83472ec571406bd0dd51c0e6330ff1a51b2d29861d389e85/textblob-0.15.3-py2.py3-none-any.whl (636kB)\n",
      "Requirement already satisfied: nltk>=3.1 in d:\\anaconda3\\lib\\site-packages (from textblob) (3.4.5)\n",
      "Requirement already satisfied: six in d:\\anaconda3\\lib\\site-packages (from nltk>=3.1->textblob) (1.12.0)\n",
      "Installing collected packages: textblob\n",
      "Successfully installed textblob-0.15.3\n"
     ]
    }
   ],
   "source": [
    "#install textblob library\n",
    "!pip install textblob\n"
   ]
  },
  {
   "cell_type": "code",
   "execution_count": 3,
   "metadata": {},
   "outputs": [
    {
     "data": {
      "text/plain": [
       "[('Air', 'NNP'),\n",
       " ('India', 'NNP'),\n",
       " ('is', 'VBZ'),\n",
       " ('the', 'DT'),\n",
       " ('flag', 'NN'),\n",
       " ('carrier', 'NN'),\n",
       " ('airline', 'NN'),\n",
       " ('of', 'IN'),\n",
       " ('India', 'NNP'),\n",
       " ('headquartered', 'VBD'),\n",
       " ('at', 'IN'),\n",
       " ('New', 'NNP'),\n",
       " ('Delhi', 'NNP'),\n",
       " ('[', 'RB'),\n",
       " ('8', 'CD'),\n",
       " (']', 'NN'),\n",
       " ('It', 'PRP'),\n",
       " ('is', 'VBZ'),\n",
       " ('owned', 'VBN'),\n",
       " ('by', 'IN'),\n",
       " ('Air', 'NNP'),\n",
       " ('India', 'NNP'),\n",
       " ('Limited', 'NNP'),\n",
       " ('a', 'DT'),\n",
       " ('government-owned', 'JJ'),\n",
       " ('enterprise', 'NN'),\n",
       " ('and', 'CC'),\n",
       " ('operates', 'VBZ'),\n",
       " ('a', 'DT'),\n",
       " ('fleet', 'NN'),\n",
       " ('of', 'IN'),\n",
       " ('Airbus', 'NNP'),\n",
       " ('and', 'CC'),\n",
       " ('Boeing', 'NNP'),\n",
       " ('aircraft', 'NN'),\n",
       " ('serving', 'VBG'),\n",
       " ('102', 'CD'),\n",
       " ('domestic', 'JJ'),\n",
       " ('and', 'CC'),\n",
       " ('international', 'JJ'),\n",
       " ('destinations', 'NNS'),\n",
       " ('The', 'DT'),\n",
       " ('airline', 'NN'),\n",
       " ('has', 'VBZ'),\n",
       " ('its', 'PRP$'),\n",
       " ('hub', 'NN'),\n",
       " ('at', 'IN'),\n",
       " ('Indira', 'NNP'),\n",
       " ('Gandhi', 'NNP'),\n",
       " ('International', 'NNP'),\n",
       " ('Airport', 'NNP'),\n",
       " ('New', 'NNP'),\n",
       " ('Delhi', 'NNP'),\n",
       " ('alongside', 'RB'),\n",
       " ('several', 'JJ'),\n",
       " ('focus', 'NN'),\n",
       " ('cities', 'NNS'),\n",
       " ('across', 'IN'),\n",
       " ('India', 'NNP'),\n",
       " ('Air', 'NNP'),\n",
       " ('India', 'NNP'),\n",
       " ('is', 'VBZ'),\n",
       " ('the', 'DT'),\n",
       " ('largest', 'JJS'),\n",
       " ('international', 'JJ'),\n",
       " ('carrier', 'NN'),\n",
       " ('out', 'IN'),\n",
       " ('of', 'IN'),\n",
       " ('India', 'NNP'),\n",
       " ('with', 'IN'),\n",
       " ('an', 'DT'),\n",
       " ('18.6', 'CD'),\n",
       " ('%', 'NN'),\n",
       " ('market', 'NN'),\n",
       " ('share', 'NN'),\n",
       " ('[', 'RB'),\n",
       " ('9', 'CD'),\n",
       " (']', 'NN'),\n",
       " ('Over', 'IN'),\n",
       " ('60', 'CD'),\n",
       " ('international', 'JJ'),\n",
       " ('destinations', 'NNS'),\n",
       " ('are', 'VBP'),\n",
       " ('served', 'VBN'),\n",
       " ('by', 'IN'),\n",
       " ('Air', 'NNP'),\n",
       " ('India', 'NNP'),\n",
       " ('across', 'IN'),\n",
       " ('four', 'CD'),\n",
       " ('continents', 'NNS'),\n",
       " ('The', 'DT'),\n",
       " ('airline', 'NN'),\n",
       " ('became', 'VBD'),\n",
       " ('the', 'DT'),\n",
       " ('27th', 'JJ'),\n",
       " ('member', 'NN'),\n",
       " ('of', 'IN'),\n",
       " ('Star', 'NNP'),\n",
       " ('Alliance', 'NNP'),\n",
       " ('on', 'IN'),\n",
       " ('11', 'CD'),\n",
       " ('July', 'NNP'),\n",
       " ('2014', 'CD')]"
      ]
     },
     "execution_count": 3,
     "metadata": {},
     "output_type": "execute_result"
    }
   ],
   "source": [
    "#Textblob - Nounphraseextraction, pos tagging, Language translation, spelling correction, tokenization\n",
    "from textblob import TextBlob\n",
    "w = TextBlob(\"\"\"Air India is the flag carrier airline of India, headquartered at New Delhi.[8] It is owned by Air India Limited, a government-owned enterprise, and operates a fleet of Airbus and Boeing aircraft serving 102 domestic and international destinations. The airline has its hub at Indira Gandhi International Airport, New Delhi, alongside several focus cities across India. Air India is the largest international carrier out of India with an 18.6% market share.[9] Over 60 international destinations are served by Air India across four continents. The airline became the 27th member of Star Alliance on 11 July 2014.\"\"\")\n",
    "w.tags"
   ]
  },
  {
   "cell_type": "code",
   "execution_count": 5,
   "metadata": {},
   "outputs": [
    {
     "data": {
      "text/plain": [
       "WordList(['india', 'flag carrier airline', 'india', 'delhi', 'india limited', 'airbus', 'boeing', 'international destinations', 'indira gandhi', 'international airport', 'delhi', 'focus cities', 'india', 'india', 'international carrier', 'india', '% market share', 'international destinations', 'india', '27th member', 'star alliance', 'july'])"
      ]
     },
     "execution_count": 5,
     "metadata": {},
     "output_type": "execute_result"
    }
   ],
   "source": [
    "w.noun_phrases"
   ]
  },
  {
   "cell_type": "code",
   "execution_count": 8,
   "metadata": {},
   "outputs": [
    {
     "data": {
      "text/plain": [
       "Sentiment(polarity=0.7, subjectivity=0.6000000000000001)"
      ]
     },
     "execution_count": 8,
     "metadata": {},
     "output_type": "execute_result"
    }
   ],
   "source": [
    "#sentiment analysis\n",
    "#polarity - ranges between -1 t0 1\n",
    "#subjectivity - ranges between 0.0(very objective) to 1.0(subjective)\n",
    "sen = TextBlob(\"Hi all, Textblob is a good library for text preprocessing.\")\n",
    "sen.sentiment"
   ]
  },
  {
   "cell_type": "code",
   "execution_count": 10,
   "metadata": {},
   "outputs": [
    {
     "data": {
      "text/plain": [
       "0.6000000000000001"
      ]
     },
     "execution_count": 10,
     "metadata": {},
     "output_type": "execute_result"
    }
   ],
   "source": [
    "sen.sentiment.subjectivity\n"
   ]
  },
  {
   "cell_type": "code",
   "execution_count": 12,
   "metadata": {},
   "outputs": [
    {
     "data": {
      "text/plain": [
       "Sentiment(polarity=0.0, subjectivity=0.0)"
      ]
     },
     "execution_count": 12,
     "metadata": {},
     "output_type": "execute_result"
    }
   ],
   "source": [
    "sen1 = TextBlob(\"Hi all,How r u?\")\n",
    "sen1.sentiment"
   ]
  },
  {
   "cell_type": "code",
   "execution_count": 13,
   "metadata": {},
   "outputs": [
    {
     "data": {
      "text/plain": [
       "0.0"
      ]
     },
     "execution_count": 13,
     "metadata": {},
     "output_type": "execute_result"
    }
   ],
   "source": [
    "sen1.sentiment.subjectivity\n"
   ]
  },
  {
   "cell_type": "code",
   "execution_count": 15,
   "metadata": {},
   "outputs": [
    {
     "data": {
      "text/plain": [
       "Sentiment(polarity=-0.35, subjectivity=0.6000000000000001)"
      ]
     },
     "execution_count": 15,
     "metadata": {},
     "output_type": "execute_result"
    }
   ],
   "source": [
    "sen2 = TextBlob(\"Hi all,iam not good\")\n",
    "sen2.sentiment"
   ]
  },
  {
   "cell_type": "code",
   "execution_count": 17,
   "metadata": {},
   "outputs": [
    {
     "data": {
      "text/plain": [
       "WordList(['Air', 'India', 'is', 'the', 'flag', 'carrier', 'airline', 'of', 'India', 'headquartered', 'at', 'New', 'Delhi', '8', 'It', 'is', 'owned', 'by', 'Air', 'India', 'Limited', 'a', 'government-owned', 'enterprise', 'and', 'operates', 'a', 'fleet', 'of', 'Airbus', 'and', 'Boeing', 'aircraft', 'serving', '102', 'domestic', 'and', 'international', 'destinations', 'The', 'airline', 'has', 'its', 'hub', 'at', 'Indira', 'Gandhi', 'International', 'Airport', 'New', 'Delhi', 'alongside', 'several', 'focus', 'cities', 'across', 'India', 'Air', 'India', 'is', 'the', 'largest', 'international', 'carrier', 'out', 'of', 'India', 'with', 'an', '18.6', 'market', 'share', '9', 'Over', '60', 'international', 'destinations', 'are', 'served', 'by', 'Air', 'India', 'across', 'four', 'continents', 'The', 'airline', 'became', 'the', '27th', 'member', 'of', 'Star', 'Alliance', 'on', '11', 'July', '2014'])"
      ]
     },
     "execution_count": 17,
     "metadata": {},
     "output_type": "execute_result"
    }
   ],
   "source": [
    "#Tokenization\n",
    "token = TextBlob(\"\"\"Air India is the flag carrier airline of India, headquartered at New Delhi.[8] \n",
    "It is owned by Air India Limited, a government-owned enterprise, and operates a fleet of Airbus and Boeing aircraft serving 102 domestic and international destinations.\n",
    "The airline has its hub at Indira Gandhi International Airport, New Delhi, alongside several focus cities across India.\n",
    "Air India is the largest international carrier out of India with an 18.6% market share.[9] \n",
    "Over 60 international destinations are served by Air India across four continents.\n",
    "The airline became the 27th member of Star Alliance on 11 July 2014.\n",
    "\"\"\")\n",
    "token.words"
   ]
  },
  {
   "cell_type": "code",
   "execution_count": 18,
   "metadata": {},
   "outputs": [
    {
     "data": {
      "text/plain": [
       "[Sentence(\"Air India is the flag carrier airline of India, headquartered at New Delhi.\"),\n",
       " Sentence(\"[8] \n",
       " It is owned by Air India Limited, a government-owned enterprise, and operates a fleet of Airbus and Boeing aircraft serving 102 domestic and international destinations.\"),\n",
       " Sentence(\"The airline has its hub at Indira Gandhi International Airport, New Delhi, alongside several focus cities across India.\"),\n",
       " Sentence(\"Air India is the largest international carrier out of India with an 18.6% market share.\"),\n",
       " Sentence(\"[9] \n",
       " Over 60 international destinations are served by Air India across four continents.\"),\n",
       " Sentence(\"The airline became the 27th member of Star Alliance on 11 July 2014.\")]"
      ]
     },
     "execution_count": 18,
     "metadata": {},
     "output_type": "execute_result"
    }
   ],
   "source": [
    "token.sentences"
   ]
  },
  {
   "cell_type": "code",
   "execution_count": 20,
   "metadata": {},
   "outputs": [
    {
     "name": "stdout",
     "output_type": "stream",
     "text": [
      "Air India is the flag carrier airline of India, headquartered at New Delhi.\n",
      "[8] \n",
      "It is owned by Air India Limited, a government-owned enterprise, and operates a fleet of Airbus and Boeing aircraft serving 102 domestic and international destinations.\n",
      "The airline has its hub at Indira Gandhi International Airport, New Delhi, alongside several focus cities across India.\n",
      "Air India is the largest international carrier out of India with an 18.6% market share.\n",
      "[9] \n",
      "Over 60 international destinations are served by Air India across four continents.\n",
      "The airline became the 27th member of Star Alliance on 11 July 2014.\n"
     ]
    }
   ],
   "source": [
    "for sentence in token.sentences:\n",
    "    print(sentence)"
   ]
  },
  {
   "cell_type": "code",
   "execution_count": 29,
   "metadata": {},
   "outputs": [
    {
     "data": {
      "text/plain": [
       "WordList(['Air', 'India', 'is', 'the', 'flag', 'carrier', 'airline', 'of', 'India', 'headquartered', 'at', 'New', 'Delhi', '8', 'It', 'is', 'owned', 'by', 'Air', 'India', 'Limited', 'a', 'government-owned', 'enterprise', 'and', 'operates', 'a', 'fleet', 'of', 'Airbus', 'and', 'Boeing', 'aircraft', 'serving', '102', 'domestic', 'and', 'international', 'destinations', 'The', 'airline', 'has', 'its', 'hub', 'at', 'Indira', 'Gandhi', 'International', 'Airport', 'New', 'Delhi', 'alongside', 'several', 'focus', 'cities', 'across', 'India', 'Air', 'India', 'is', 'the', 'largest', 'international', 'carrier', 'out', 'of', 'India', 'with', 'an', '18.6', 'market', 'share', '9', 'Over', '60', 'international', 'destinations', 'are', 'served', 'by', 'Air', 'India', 'across', 'four', 'continents', 'The', 'airline', 'became', 'the', '27th', 'member', 'of', 'Star', 'Alliance', 'on', '11', 'July', '2014'])"
      ]
     },
     "execution_count": 29,
     "metadata": {},
     "output_type": "execute_result"
    }
   ],
   "source": [
    "#Lemmatization\n",
    "l = TextBlob(\"\"\"Air India is the flag carrier airline of India, headquartered at New Delhi.[8] \n",
    "It is owned by Air India Limited, a government-owned enterprise, and operates a fleet of Airbus and Boeing aircraft serving 102 domestic and international destinations.\n",
    "The airline has its hub at Indira Gandhi International Airport, New Delhi, alongside several focus cities across India.\n",
    "Air India is the largest international carrier out of India with an 18.6% market share.[9] \n",
    "Over 60 international destinations are served by Air India across four continents.\n",
    "The airline became the 27th member of Star Alliance on 11 July 2014.\n",
    "\"\"\")\n",
    "l.words"
   ]
  },
  {
   "cell_type": "code",
   "execution_count": 30,
   "metadata": {},
   "outputs": [
    {
     "data": {
      "text/plain": [
       "'operate'"
      ]
     },
     "execution_count": 30,
     "metadata": {},
     "output_type": "execute_result"
    }
   ],
   "source": [
    "l.words[25].singularize()"
   ]
  },
  {
   "cell_type": "code",
   "execution_count": 31,
   "metadata": {},
   "outputs": [
    {
     "data": {
      "text/plain": [
       "'carriers'"
      ]
     },
     "execution_count": 31,
     "metadata": {},
     "output_type": "execute_result"
    }
   ],
   "source": [
    "l.words[5].pluralize()"
   ]
  },
  {
   "cell_type": "code",
   "execution_count": 36,
   "metadata": {},
   "outputs": [
    {
     "data": {
      "text/plain": [
       "'put'"
      ]
     },
     "execution_count": 36,
     "metadata": {},
     "output_type": "execute_result"
    }
   ],
   "source": [
    "from textblob import Word\n",
    "\n",
    "lem = Word('puts')\n",
    "lem.lemmatize()"
   ]
  },
  {
   "cell_type": "code",
   "execution_count": 37,
   "metadata": {},
   "outputs": [
    {
     "data": {
      "text/plain": [
       "'do'"
      ]
     },
     "execution_count": 37,
     "metadata": {},
     "output_type": "execute_result"
    }
   ],
   "source": [
    "#lemmitization based on verb\n",
    "o = Word('did')\n",
    "o.lemmatize('v')\n"
   ]
  },
  {
   "cell_type": "code",
   "execution_count": 39,
   "metadata": {},
   "outputs": [
    {
     "data": {
      "text/plain": [
       "[Synset('lion.n.01'),\n",
       " Synset('lion.n.02'),\n",
       " Synset('leo.n.01'),\n",
       " Synset('leo.n.03')]"
      ]
     },
     "execution_count": 39,
     "metadata": {},
     "output_type": "execute_result"
    }
   ],
   "source": [
    "#Wordnet - wordnet is lexical database for the english language.\n",
    "from textblob import Word\n",
    "from textblob.wordnet import VERB\n",
    "word = Word('lion')\n",
    "word.synsets"
   ]
  },
  {
   "cell_type": "code",
   "execution_count": 46,
   "metadata": {},
   "outputs": [
    {
     "data": {
      "text/plain": [
       "['buildings for carrying on industrial labor',\n",
       " '(botany) a living organism lacking the power of locomotion',\n",
       " 'an actor situated in the audience whose acting is rehearsed but seems spontaneous to the audience',\n",
       " 'something planted secretly for discovery by another',\n",
       " 'put or set (seeds, seedlings, or plants) into the ground',\n",
       " 'fix or set securely or deeply',\n",
       " 'set up or lay the groundwork for',\n",
       " 'place into a river',\n",
       " 'place something or someone in a certain position in order to secretly observe or deceive',\n",
       " 'put firmly in the mind']"
      ]
     },
     "execution_count": 46,
     "metadata": {},
     "output_type": "execute_result"
    }
   ],
   "source": [
    "#definitions\n",
    "Word(\"Plants\").definitions"
   ]
  },
  {
   "cell_type": "code",
   "execution_count": 51,
   "metadata": {},
   "outputs": [
    {
     "data": {
      "text/plain": [
       "TextBlob(\"the\")"
      ]
     },
     "execution_count": 51,
     "metadata": {},
     "output_type": "execute_result"
    }
   ],
   "source": [
    "#Spelling correction\n",
    "sc = TextBlob(\"teh\")\n",
    "sc.correct()"
   ]
  },
  {
   "cell_type": "code",
   "execution_count": 53,
   "metadata": {},
   "outputs": [
    {
     "data": {
      "text/plain": [
       "[('our', 0.8400315208825847), ('occur', 0.1599684791174153)]"
      ]
     },
     "execution_count": 53,
     "metadata": {},
     "output_type": "execute_result"
    }
   ],
   "source": [
    "from textblob import Word\n",
    "w = Word('ocur')\n",
    "w.spellcheck()"
   ]
  },
  {
   "cell_type": "code",
   "execution_count": 56,
   "metadata": {},
   "outputs": [
    {
     "data": {
      "text/plain": [
       "3"
      ]
     },
     "execution_count": 56,
     "metadata": {},
     "output_type": "execute_result"
    }
   ],
   "source": [
    "cnt = TextBlob(\"\"\"Air India is the flag carrier airline of India, headquartered at New Delhi.[8] \n",
    "It is owned by Air India Limited, a government-owned enterprise, and operates a fleet of Airbus and Boeing aircraft serving 102 domestic and international destinations.\n",
    "The airline has its hub at Indira Gandhi International Airport, New Delhi, alongside several focus cities across India.\n",
    "Air India is the largest international carrier out of India with an 18.6% market share.[9] \n",
    "Over 60 international destinations are served by Air India across four continents.\n",
    "The airline became the 27th member of Star Alliance on 11 July 2014.\"\"\")\n",
    "\n",
    "cnt.word_counts['is']"
   ]
  },
  {
   "cell_type": "code",
   "execution_count": 61,
   "metadata": {},
   "outputs": [
    {
     "data": {
      "text/plain": [
       "2"
      ]
     },
     "execution_count": 61,
     "metadata": {},
     "output_type": "execute_result"
    }
   ],
   "source": [
    "cnt.words.count('The',case_sensitive=True)"
   ]
  },
  {
   "cell_type": "code",
   "execution_count": 62,
   "metadata": {},
   "outputs": [
    {
     "data": {
      "text/plain": [
       "7"
      ]
     },
     "execution_count": 62,
     "metadata": {},
     "output_type": "execute_result"
    }
   ],
   "source": [
    "cnt.words.count('India')"
   ]
  },
  {
   "cell_type": "code",
   "execution_count": 63,
   "metadata": {},
   "outputs": [
    {
     "data": {
      "text/plain": [
       "TextBlob(\"புது தில்லியை தலைமையிடமாகக் கொண்ட இந்தியாவின் கொடி கேரியர் விமான நிறுவனம் ஏர் இந்தியா. [8]\n",
       "இது அரசாங்கத்திற்கு சொந்தமான நிறுவனமான ஏர் இந்தியா லிமிடெட் நிறுவனத்திற்கு சொந்தமானது, மேலும் 102 உள்நாட்டு மற்றும் சர்வதேச இடங்களுக்கு சேவை செய்யும் ஏர்பஸ் மற்றும் போயிங் விமானங்களை இயக்குகிறது.\n",
       "புதுடெல்லியின் இந்திரா காந்தி சர்வதேச விமான நிலையத்தில் இந்த விமான நிறுவனம் அதன் மையமாக உள்ளது.\n",
       "ஏர் இந்தியா 18.6% சந்தைப் பங்கைக் கொண்ட இந்தியாவிலிருந்து மிகப்பெரிய சர்வதேச கேரியர் ஆகும். [9]\n",
       "நான்கு கண்டங்களில் 60 க்கும் மேற்பட்ட சர்வதேச இடங்களுக்கு ஏர் இந்தியா சேவை செய்கிறது.\n",
       "11 ஜூலை 2014 அன்று விமான நிறுவனம் ஸ்டார் அலையன்ஸின் 27 வது உறுப்பினரானது.\")"
      ]
     },
     "execution_count": 63,
     "metadata": {},
     "output_type": "execute_result"
    }
   ],
   "source": [
    "#Language Translation\n",
    "Trans = TextBlob(\"\"\"Air India is the flag carrier airline of India, headquartered at New Delhi.[8] \n",
    "It is owned by Air India Limited, a government-owned enterprise, and operates a fleet of Airbus and Boeing aircraft serving 102 domestic and international destinations.\n",
    "The airline has its hub at Indira Gandhi International Airport, New Delhi, alongside several focus cities across India.\n",
    "Air India is the largest international carrier out of India with an 18.6% market share.[9] \n",
    "Over 60 international destinations are served by Air India across four continents.\n",
    "The airline became the 27th member of Star Alliance on 11 July 2014.\"\"\")\n",
    "Trans.translate(to='ta')"
   ]
  },
  {
   "cell_type": "code",
   "execution_count": 64,
   "metadata": {},
   "outputs": [
    {
     "data": {
      "text/plain": [
       "TextBlob(\"Air India est la compagnie aérienne porte-drapeau de l'Inde, dont le siège est à New Delhi.[8]\n",
       "Elle appartient à Air India Limited, une entreprise publique, et exploite une flotte d'avions Airbus et Boeing desservant 102 destinations nationales et internationales.\n",
       "La compagnie aérienne a son hub à l'aéroport international Indira Gandhi de New Delhi, aux côtés de plusieurs villes cibles à travers l'Inde.\n",
       "Air India est le plus grand transporteur international au départ de l'Inde avec une part de marché de 18,6 %.[9]\n",
       "Plus de 60 destinations internationales sont desservies par Air India sur quatre continents.\n",
       "La compagnie aérienne est devenue le 27e membre de Star Alliance le 11 juillet 2014.\")"
      ]
     },
     "execution_count": 64,
     "metadata": {},
     "output_type": "execute_result"
    }
   ],
   "source": [
    "Trans.translate(to='fr')"
   ]
  },
  {
   "cell_type": "code",
   "execution_count": 65,
   "metadata": {},
   "outputs": [
    {
     "data": {
      "text/plain": [
       "TextBlob(\"एयर इंडिया भारत की ध्वजवाहक एयरलाइन है, जिसका मुख्यालय नई दिल्ली में है।[8]\n",
       "यह एयर इंडिया लिमिटेड के स्वामित्व में है, जो एक सरकारी स्वामित्व वाला उद्यम है, और 102 घरेलू और अंतरराष्ट्रीय गंतव्यों की सेवा करने वाले एयरबस और बोइंग विमानों का एक बेड़ा संचालित करता है।\n",
       "एयरलाइन का भारत भर के कई फोकस शहरों के साथ-साथ इंदिरा गांधी अंतर्राष्ट्रीय हवाई अड्डे, नई दिल्ली में अपना केंद्र है।\n",
       "18.6% बाजार हिस्सेदारी के साथ एयर इंडिया भारत से बाहर सबसे बड़ा अंतरराष्ट्रीय वाहक है। [9]\n",
       "एयर इंडिया द्वारा चार महाद्वीपों में 60 से अधिक अंतरराष्ट्रीय गंतव्यों की सेवा की जाती है।\n",
       "एयरलाइन 11 जुलाई 2014 को स्टार एलायंस की 27वीं सदस्य बनी।\")"
      ]
     },
     "execution_count": 65,
     "metadata": {},
     "output_type": "execute_result"
    }
   ],
   "source": [
    "Trans.translate(to='hi')"
   ]
  },
  {
   "cell_type": "code",
   "execution_count": 71,
   "metadata": {},
   "outputs": [
    {
     "data": {
      "text/plain": [
       "TextBlob(\"How are you?\")"
      ]
     },
     "execution_count": 71,
     "metadata": {},
     "output_type": "execute_result"
    }
   ],
   "source": [
    "#chinese to tamil\n",
    "trans_to_ch = TextBlob(u\"你好吗?\")\n",
    "trans_to_ch.translate(from_lang=\"zh-CN\",to='tm')"
   ]
  },
  {
   "cell_type": "code",
   "execution_count": 68,
   "metadata": {},
   "outputs": [
    {
     "data": {
      "text/plain": [
       "'ta'"
      ]
     },
     "execution_count": 68,
     "metadata": {},
     "output_type": "execute_result"
    }
   ],
   "source": [
    "d_lang  = TextBlob(\"புது தில்லியை தலைமையிடமாகக் கொண்ட இந்தியாவின் கொடி\")\n",
    "d_lang.detect_language()"
   ]
  },
  {
   "cell_type": "code",
   "execution_count": 69,
   "metadata": {},
   "outputs": [
    {
     "data": {
      "text/plain": [
       "'hi'"
      ]
     },
     "execution_count": 69,
     "metadata": {},
     "output_type": "execute_result"
    }
   ],
   "source": [
    "d_lang  = TextBlob(\"एयर इंडिया भारत की ध्वजवाहक एयरलाइन ி\")\n",
    "d_lang.detect_language()"
   ]
  },
  {
   "cell_type": "code",
   "execution_count": 72,
   "metadata": {},
   "outputs": [
    {
     "data": {
      "text/plain": [
       "TextBlob(\"HELLO ALL ,HOW ARE YOU?\")"
      ]
     },
     "execution_count": 72,
     "metadata": {},
     "output_type": "execute_result"
    }
   ],
   "source": [
    "#upper\n",
    "u = TextBlob(\"hello all ,how are you?\")\n",
    "u.upper()"
   ]
  },
  {
   "cell_type": "code",
   "execution_count": 73,
   "metadata": {},
   "outputs": [
    {
     "data": {
      "text/plain": [
       "6"
      ]
     },
     "execution_count": 73,
     "metadata": {},
     "output_type": "execute_result"
    }
   ],
   "source": [
    "#find - the word 'all' starts with 6th index location\n",
    "u.find('all')"
   ]
  },
  {
   "cell_type": "code",
   "execution_count": 76,
   "metadata": {},
   "outputs": [
    {
     "data": {
      "text/plain": [
       "[WordList(['Hello', 'all', 'how', 'are', 'you']),\n",
       " WordList(['all', 'how', 'are', 'you', 'doing'])]"
      ]
     },
     "execution_count": 76,
     "metadata": {},
     "output_type": "execute_result"
    }
   ],
   "source": [
    "#n-grams\n",
    "#it generates the multilpe sort of data sets in the form of tuples\n",
    "in_gr = TextBlob(\"Hello all, how are you doing?\")\n",
    "in_gr.ngrams(n=5)"
   ]
  },
  {
   "cell_type": "code",
   "execution_count": 77,
   "metadata": {},
   "outputs": [
    {
     "data": {
      "text/plain": [
       "[WordList(['Hello', 'all', 'how', 'are']),\n",
       " WordList(['all', 'how', 'are', 'you']),\n",
       " WordList(['how', 'are', 'you', 'doing'])]"
      ]
     },
     "execution_count": 77,
     "metadata": {},
     "output_type": "execute_result"
    }
   ],
   "source": [
    "in_gr.ngrams(n=4)"
   ]
  },
  {
   "cell_type": "code",
   "execution_count": 78,
   "metadata": {},
   "outputs": [
    {
     "data": {
      "text/plain": [
       "[WordList(['Hello', 'all', 'how']),\n",
       " WordList(['all', 'how', 'are']),\n",
       " WordList(['how', 'are', 'you']),\n",
       " WordList(['are', 'you', 'doing'])]"
      ]
     },
     "execution_count": 78,
     "metadata": {},
     "output_type": "execute_result"
    }
   ],
   "source": [
    "in_gr.ngrams(n=3)"
   ]
  },
  {
   "cell_type": "code",
   "execution_count": 79,
   "metadata": {},
   "outputs": [
    {
     "data": {
      "text/plain": [
       "[WordList(['Hello', 'all']),\n",
       " WordList(['all', 'how']),\n",
       " WordList(['how', 'are']),\n",
       " WordList(['are', 'you']),\n",
       " WordList(['you', 'doing'])]"
      ]
     },
     "execution_count": 79,
     "metadata": {},
     "output_type": "execute_result"
    }
   ],
   "source": [
    "in_gr.ngrams(n=2)"
   ]
  },
  {
   "cell_type": "code",
   "execution_count": 83,
   "metadata": {},
   "outputs": [],
   "source": [
    "#Text classification system using textblob\n",
    "train = [\n",
    "    ('I love Icecream','p'),\n",
    "    ('you will do','p'),\n",
    "    ('hearing music gives you a good feeling','p'),\n",
    "    ('This place is really nice','p'),\n",
    "    ('this is my strength','p'),\n",
    "    ('I dont smoke','n'),\n",
    "    ('this food is awful','n'),\n",
    "    ('you cannot do that','n'),\n",
    "    ('he is not a good person','n'),\n",
    "    ('watching movies are a bad thing','n')]\n",
    "test = [\n",
    "    ('I love vegetables','p'),\n",
    "    ('iam not well','n'),\n",
    "    ('place is beautiful','p'),\n",
    "    ('dont do that','n'),\n",
    "    ('he is my good friend','p'),\n",
    "    ('dont go out','n')\n",
    "]"
   ]
  },
  {
   "cell_type": "code",
   "execution_count": 84,
   "metadata": {},
   "outputs": [],
   "source": [
    "from textblob.classifiers import NaiveBayesClassifier\n",
    "n = NaiveBayesClassifier(train)"
   ]
  },
  {
   "cell_type": "code",
   "execution_count": 88,
   "metadata": {},
   "outputs": [
    {
     "data": {
      "text/plain": [
       "'p'"
      ]
     },
     "execution_count": 88,
     "metadata": {},
     "output_type": "execute_result"
    }
   ],
   "source": [
    "n.classify('good place')"
   ]
  },
  {
   "cell_type": "code",
   "execution_count": 89,
   "metadata": {},
   "outputs": [
    {
     "data": {
      "text/plain": [
       "True"
      ]
     },
     "execution_count": 89,
     "metadata": {},
     "output_type": "execute_result"
    }
   ],
   "source": [
    "#update\n",
    "n_data = [\n",
    "    ('He is a good gentleman','p'),\n",
    "    ('He dont prfer maedicines','n')]\n",
    "n.update(n_data)"
   ]
  },
  {
   "cell_type": "code",
   "execution_count": 90,
   "metadata": {},
   "outputs": [
    {
     "data": {
      "text/plain": [
       "1.0"
      ]
     },
     "execution_count": 90,
     "metadata": {},
     "output_type": "execute_result"
    }
   ],
   "source": [
    "n.accuracy(test)"
   ]
  },
  {
   "cell_type": "code",
   "execution_count": null,
   "metadata": {},
   "outputs": [],
   "source": []
  }
 ],
 "metadata": {
  "kernelspec": {
   "display_name": "Python 3",
   "language": "python",
   "name": "python3"
  },
  "language_info": {
   "codemirror_mode": {
    "name": "ipython",
    "version": 3
   },
   "file_extension": ".py",
   "mimetype": "text/x-python",
   "name": "python",
   "nbconvert_exporter": "python",
   "pygments_lexer": "ipython3",
   "version": "3.7.4"
  }
 },
 "nbformat": 4,
 "nbformat_minor": 2
}
